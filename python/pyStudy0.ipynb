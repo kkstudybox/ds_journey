{
 "cells": [
  {
   "cell_type": "code",
   "execution_count": 1,
   "id": "26abb79a-4468-4d19-ba57-5e49a82f15fb",
   "metadata": {},
   "outputs": [
    {
     "name": "stdout",
     "output_type": "stream",
     "text": [
      "10 3.14 Hello, Data Science! True\n"
     ]
    }
   ],
   "source": [
    "# Integers, floats, strings, booleans\n",
    "a = 10\n",
    "b = 3.14\n",
    "c = \"Hello, Data Science!\"\n",
    "d = True\n",
    "\n",
    "# Printing them\n",
    "print(a, b, c, d)"
   ]
  },
  {
   "cell_type": "code",
   "execution_count": 2,
   "id": "4f1dc109-7b31-4cc1-a260-2ef32e95f95c",
   "metadata": {},
   "outputs": [
    {
     "name": "stdout",
     "output_type": "stream",
     "text": [
      "13.14 3.184713375796178 Data Science\n"
     ]
    }
   ],
   "source": [
    "# Mathematical operations\n",
    "addition = a + b\n",
    "division = a / b\n",
    "\n",
    "# String manipulation\n",
    "name = \"Data\"\n",
    "full_name = name + \" Science\"\n",
    "\n",
    "# Printing results\n",
    "print(addition, division, full_name)"
   ]
  },
  {
   "cell_type": "code",
   "execution_count": 5,
   "id": "d6f7e4ad-a5c5-4ef7-b0be-9b3e39fa659f",
   "metadata": {},
   "outputs": [
    {
     "name": "stdout",
     "output_type": "stream",
     "text": [
      "10 is greater than 3.14\n",
      "Iteration 0\n",
      "Iteration 1\n",
      "Iteration 2\n"
     ]
    }
   ],
   "source": [
    "# If-Else\n",
    "if a > b:\n",
    "    print(f\"{a} is greater than {b}\")\n",
    "else:\n",
    "    print(f\"{b} is greater than {a}\")\n",
    "\n",
    "# For loop\n",
    "for i in range(0, 3):\n",
    "    print(f\"Iteration {i}\")"
   ]
  },
  {
   "cell_type": "code",
   "execution_count": 6,
   "id": "3e79a34b-7080-425c-95e1-955997a7051d",
   "metadata": {},
   "outputs": [
    {
     "name": "stdout",
     "output_type": "stream",
     "text": [
      "The square of 5 is 25\n"
     ]
    }
   ],
   "source": [
    "# Defining a function\n",
    "def square(num):\n",
    "    return num * num\n",
    "\n",
    "# Using the function\n",
    "result = square(5)\n",
    "print(f\"The square of 5 is {result}\")"
   ]
  },
  {
   "cell_type": "code",
   "execution_count": 7,
   "id": "6f1163c1-d56d-4371-859f-a0ed8a12b55a",
   "metadata": {},
   "outputs": [
    {
     "name": "stdout",
     "output_type": "stream",
     "text": [
      "[ 2  4  6  8 10]\n"
     ]
    }
   ],
   "source": [
    "import numpy as np\n",
    "\n",
    "# Create a NumPy array\n",
    "arr = np.array([1, 2, 3, 4, 5])\n",
    "\n",
    "# Perform operations on the array\n",
    "print(arr * 2)"
   ]
  },
  {
   "cell_type": "code",
   "execution_count": 8,
   "id": "e1d1a196-b022-4bf5-8b38-66d5fb327b9c",
   "metadata": {},
   "outputs": [
    {
     "name": "stdout",
     "output_type": "stream",
     "text": [
      "      Name  Age\n",
      "0    Alice   25\n",
      "1      Bob   30\n",
      "2  Charlie   35\n",
      "        Age\n",
      "count   3.0\n",
      "mean   30.0\n",
      "std     5.0\n",
      "min    25.0\n",
      "25%    27.5\n",
      "50%    30.0\n",
      "75%    32.5\n",
      "max    35.0\n"
     ]
    }
   ],
   "source": [
    "import pandas as pd\n",
    "\n",
    "# Create a Pandas DataFrame\n",
    "data = {'Name': ['Alice', 'Bob', 'Charlie'], 'Age': [25, 30, 35]}\n",
    "df = pd.DataFrame(data)\n",
    "\n",
    "# Display the DataFrame\n",
    "print(df)\n",
    "\n",
    "# Summarize the data\n",
    "print(df.describe())"
   ]
  }
 ],
 "metadata": {
  "kernelspec": {
   "display_name": "Python 3 (ipykernel)",
   "language": "python",
   "name": "python3"
  },
  "language_info": {
   "codemirror_mode": {
    "name": "ipython",
    "version": 3
   },
   "file_extension": ".py",
   "mimetype": "text/x-python",
   "name": "python",
   "nbconvert_exporter": "python",
   "pygments_lexer": "ipython3",
   "version": "3.13.0"
  }
 },
 "nbformat": 4,
 "nbformat_minor": 5
}
